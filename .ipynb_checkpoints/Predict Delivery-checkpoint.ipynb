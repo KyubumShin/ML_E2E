{
 "cells": [
  {
   "cell_type": "code",
   "execution_count": 1,
   "id": "e6a973f8",
   "metadata": {},
   "outputs": [],
   "source": [
    "import os\n",
    "import sys\n",
    "\n",
    "import copy\n",
    "import numpy as np\n",
    "import sklearn\n",
    "import pandas as pd\n",
    "\n",
    "from sklearn.metrics import mean_absolute_error, accuracy_score\n",
    "\n",
    "%matplotlib inline\n",
    "import matplotlib as mpl\n",
    "import matplotlib.pyplot as plt\n",
    "mpl.rc('axes', labelsize=14)\n",
    "mpl.rc('xtick', labelsize=12)\n",
    "mpl.rc('ytick', labelsize=12)\n",
    "\n",
    "import warnings\n",
    "warnings.filterwarnings('ignore')\n",
    "\n",
    "# Where to save the figures\n",
    "PROJECT_ROOT_DIR = \".\"\n",
    "CHAPTER_ID = \"end_to_end_project\"\n",
    "IMAGES_PATH = os.path.join(PROJECT_ROOT_DIR, \"images\", CHAPTER_ID)\n",
    "os.makedirs(IMAGES_PATH, exist_ok=True)\n",
    "\n",
    "def save_fig(fig_id, tight_layout=True, fig_extension=\"png\", resolution=300):\n",
    "    path = os.path.join(IMAGES_PATH, fig_id + \".\" + fig_extension)\n",
    "    print(\"Saving figure\", fig_id)\n",
    "    if tight_layout:\n",
    "        plt.tight_layout()\n",
    "    plt.savefig(path, format=fig_extension, dpi=resolution)\n",
    "\n",
    "# Ignore useless warnings (see SciPy issue #5998)\n",
    "import warnings\n",
    "warnings.filterwarnings(action=\"ignore\", message=\"^internal gelsd\")\n",
    "\n",
    "predict_deli = pd.read_csv(\"./predict_delivery_time.csv\")"
   ]
  },
  {
   "cell_type": "code",
   "execution_count": 2,
   "id": "288bfb48",
   "metadata": {},
   "outputs": [
    {
     "data": {
      "text/html": [
       "<div>\n",
       "<style scoped>\n",
       "    .dataframe tbody tr th:only-of-type {\n",
       "        vertical-align: middle;\n",
       "    }\n",
       "\n",
       "    .dataframe tbody tr th {\n",
       "        vertical-align: top;\n",
       "    }\n",
       "\n",
       "    .dataframe thead th {\n",
       "        text-align: right;\n",
       "    }\n",
       "</style>\n",
       "<table border=\"1\" class=\"dataframe\">\n",
       "  <thead>\n",
       "    <tr style=\"text-align: right;\">\n",
       "      <th></th>\n",
       "      <th>Restaurant</th>\n",
       "      <th>Location</th>\n",
       "      <th>Cuisines</th>\n",
       "      <th>AverageCost</th>\n",
       "      <th>MinimumOrder</th>\n",
       "      <th>Rating</th>\n",
       "      <th>Votes</th>\n",
       "      <th>Reviews</th>\n",
       "      <th>DeliveryTime</th>\n",
       "    </tr>\n",
       "  </thead>\n",
       "  <tbody>\n",
       "    <tr>\n",
       "      <th>0</th>\n",
       "      <td>ID6321</td>\n",
       "      <td>FTI College, Law College Road, Pune</td>\n",
       "      <td>Fast Food, Rolls, Burger, Salad, Wraps</td>\n",
       "      <td>200</td>\n",
       "      <td>50</td>\n",
       "      <td>3.5</td>\n",
       "      <td>12.0</td>\n",
       "      <td>4.0</td>\n",
       "      <td>30</td>\n",
       "    </tr>\n",
       "    <tr>\n",
       "      <th>1</th>\n",
       "      <td>ID2882</td>\n",
       "      <td>Sector 3, Marathalli</td>\n",
       "      <td>Ice Cream, Desserts</td>\n",
       "      <td>100</td>\n",
       "      <td>50</td>\n",
       "      <td>3.5</td>\n",
       "      <td>11.0</td>\n",
       "      <td>4.0</td>\n",
       "      <td>30</td>\n",
       "    </tr>\n",
       "    <tr>\n",
       "      <th>2</th>\n",
       "      <td>ID1595</td>\n",
       "      <td>Mumbai Central</td>\n",
       "      <td>Italian, Street Food, Fast Food</td>\n",
       "      <td>150</td>\n",
       "      <td>50</td>\n",
       "      <td>3.6</td>\n",
       "      <td>99.0</td>\n",
       "      <td>30.0</td>\n",
       "      <td>65</td>\n",
       "    </tr>\n",
       "    <tr>\n",
       "      <th>3</th>\n",
       "      <td>ID5929</td>\n",
       "      <td>Sector 1, Noida</td>\n",
       "      <td>Mughlai, North Indian, Chinese</td>\n",
       "      <td>250</td>\n",
       "      <td>99</td>\n",
       "      <td>3.7</td>\n",
       "      <td>176.0</td>\n",
       "      <td>95.0</td>\n",
       "      <td>30</td>\n",
       "    </tr>\n",
       "    <tr>\n",
       "      <th>4</th>\n",
       "      <td>ID6123</td>\n",
       "      <td>Rmz Centennial, I Gate, Whitefield</td>\n",
       "      <td>Cafe, Beverages</td>\n",
       "      <td>200</td>\n",
       "      <td>99</td>\n",
       "      <td>3.2</td>\n",
       "      <td>521.0</td>\n",
       "      <td>235.0</td>\n",
       "      <td>65</td>\n",
       "    </tr>\n",
       "  </tbody>\n",
       "</table>\n",
       "</div>"
      ],
      "text/plain": [
       "  Restaurant                             Location  \\\n",
       "0     ID6321  FTI College, Law College Road, Pune   \n",
       "1     ID2882                 Sector 3, Marathalli   \n",
       "2     ID1595                       Mumbai Central   \n",
       "3     ID5929                      Sector 1, Noida   \n",
       "4     ID6123   Rmz Centennial, I Gate, Whitefield   \n",
       "\n",
       "                                 Cuisines AverageCost  MinimumOrder Rating  \\\n",
       "0  Fast Food, Rolls, Burger, Salad, Wraps         200            50    3.5   \n",
       "1                     Ice Cream, Desserts         100            50    3.5   \n",
       "2         Italian, Street Food, Fast Food         150            50    3.6   \n",
       "3          Mughlai, North Indian, Chinese         250            99    3.7   \n",
       "4                         Cafe, Beverages         200            99    3.2   \n",
       "\n",
       "   Votes  Reviews  DeliveryTime  \n",
       "0   12.0      4.0            30  \n",
       "1   11.0      4.0            30  \n",
       "2   99.0     30.0            65  \n",
       "3  176.0     95.0            30  \n",
       "4  521.0    235.0            65  "
      ]
     },
     "execution_count": 2,
     "metadata": {},
     "output_type": "execute_result"
    }
   ],
   "source": [
    "predict_deli.head(5)"
   ]
  },
  {
   "cell_type": "code",
   "execution_count": 3,
   "id": "c0a727c9",
   "metadata": {},
   "outputs": [
    {
     "name": "stdout",
     "output_type": "stream",
     "text": [
      "<class 'pandas.core.frame.DataFrame'>\n",
      "RangeIndex: 11094 entries, 0 to 11093\n",
      "Data columns (total 9 columns):\n",
      " #   Column        Non-Null Count  Dtype  \n",
      "---  ------        --------------  -----  \n",
      " 0   Restaurant    11094 non-null  object \n",
      " 1   Location      11094 non-null  object \n",
      " 2   Cuisines      11094 non-null  object \n",
      " 3   AverageCost   11094 non-null  object \n",
      " 4   MinimumOrder  11094 non-null  int64  \n",
      " 5   Rating        9903 non-null   object \n",
      " 6   Votes         9020 non-null   float64\n",
      " 7   Reviews       8782 non-null   float64\n",
      " 8   DeliveryTime  11094 non-null  int64  \n",
      "dtypes: float64(2), int64(2), object(5)\n",
      "memory usage: 780.2+ KB\n"
     ]
    }
   ],
   "source": [
    "predict_deli.info()"
   ]
  },
  {
   "cell_type": "code",
   "execution_count": 4,
   "id": "a4722048",
   "metadata": {
    "scrolled": false
   },
   "outputs": [
    {
     "data": {
      "text/html": [
       "<div>\n",
       "<style scoped>\n",
       "    .dataframe tbody tr th:only-of-type {\n",
       "        vertical-align: middle;\n",
       "    }\n",
       "\n",
       "    .dataframe tbody tr th {\n",
       "        vertical-align: top;\n",
       "    }\n",
       "\n",
       "    .dataframe thead th {\n",
       "        text-align: right;\n",
       "    }\n",
       "</style>\n",
       "<table border=\"1\" class=\"dataframe\">\n",
       "  <thead>\n",
       "    <tr style=\"text-align: right;\">\n",
       "      <th></th>\n",
       "      <th>MinimumOrder</th>\n",
       "      <th>Votes</th>\n",
       "      <th>Reviews</th>\n",
       "      <th>DeliveryTime</th>\n",
       "    </tr>\n",
       "  </thead>\n",
       "  <tbody>\n",
       "    <tr>\n",
       "      <th>count</th>\n",
       "      <td>11094.000000</td>\n",
       "      <td>9020.000000</td>\n",
       "      <td>8782.000000</td>\n",
       "      <td>11094.000000</td>\n",
       "    </tr>\n",
       "    <tr>\n",
       "      <th>mean</th>\n",
       "      <td>53.344511</td>\n",
       "      <td>244.544457</td>\n",
       "      <td>123.247893</td>\n",
       "      <td>37.056066</td>\n",
       "    </tr>\n",
       "    <tr>\n",
       "      <th>std</th>\n",
       "      <td>18.551245</td>\n",
       "      <td>555.094733</td>\n",
       "      <td>321.025216</td>\n",
       "      <td>12.447496</td>\n",
       "    </tr>\n",
       "    <tr>\n",
       "      <th>min</th>\n",
       "      <td>0.000000</td>\n",
       "      <td>3.000000</td>\n",
       "      <td>1.000000</td>\n",
       "      <td>10.000000</td>\n",
       "    </tr>\n",
       "    <tr>\n",
       "      <th>25%</th>\n",
       "      <td>50.000000</td>\n",
       "      <td>19.000000</td>\n",
       "      <td>7.000000</td>\n",
       "      <td>30.000000</td>\n",
       "    </tr>\n",
       "    <tr>\n",
       "      <th>50%</th>\n",
       "      <td>50.000000</td>\n",
       "      <td>63.000000</td>\n",
       "      <td>26.000000</td>\n",
       "      <td>30.000000</td>\n",
       "    </tr>\n",
       "    <tr>\n",
       "      <th>75%</th>\n",
       "      <td>50.000000</td>\n",
       "      <td>216.000000</td>\n",
       "      <td>91.000000</td>\n",
       "      <td>45.000000</td>\n",
       "    </tr>\n",
       "    <tr>\n",
       "      <th>max</th>\n",
       "      <td>500.000000</td>\n",
       "      <td>9054.000000</td>\n",
       "      <td>6504.000000</td>\n",
       "      <td>120.000000</td>\n",
       "    </tr>\n",
       "  </tbody>\n",
       "</table>\n",
       "</div>"
      ],
      "text/plain": [
       "       MinimumOrder        Votes      Reviews  DeliveryTime\n",
       "count  11094.000000  9020.000000  8782.000000  11094.000000\n",
       "mean      53.344511   244.544457   123.247893     37.056066\n",
       "std       18.551245   555.094733   321.025216     12.447496\n",
       "min        0.000000     3.000000     1.000000     10.000000\n",
       "25%       50.000000    19.000000     7.000000     30.000000\n",
       "50%       50.000000    63.000000    26.000000     30.000000\n",
       "75%       50.000000   216.000000    91.000000     45.000000\n",
       "max      500.000000  9054.000000  6504.000000    120.000000"
      ]
     },
     "execution_count": 4,
     "metadata": {},
     "output_type": "execute_result"
    }
   ],
   "source": [
    "predict_deli.describe()"
   ]
  },
  {
   "cell_type": "code",
   "execution_count": 5,
   "id": "52ea81ea",
   "metadata": {},
   "outputs": [
    {
     "data": {
      "text/plain": [
       "3.7                   869\n",
       "3.6                   846\n",
       "3.5                   818\n",
       "3.8                   800\n",
       "NEW                   758\n",
       "3.9                   749\n",
       "3.4                   718\n",
       "3.3                   675\n",
       "4.0                   614\n",
       "3.2                   511\n",
       "4.1                   459\n",
       "3.1                   411\n",
       "3.0                   302\n",
       "4.2                   272\n",
       "4.3                   247\n",
       "2.9                   199\n",
       "2.8                   157\n",
       "4.4                   142\n",
       "4.5                    78\n",
       "2.7                    76\n",
       "2.6                    42\n",
       "4.6                    41\n",
       "4.7                    36\n",
       "2.5                    27\n",
       "4.8                    13\n",
       "2.4                    13\n",
       "Opening Soon           12\n",
       "4.9                     8\n",
       "2.3                     6\n",
       "Temporarily Closed      2\n",
       "2.1                     1\n",
       "2.2                     1\n",
       "Name: Rating, dtype: int64"
      ]
     },
     "execution_count": 5,
     "metadata": {},
     "output_type": "execute_result"
    }
   ],
   "source": [
    "predict_deli[\"Rating\"].value_counts()"
   ]
  },
  {
   "cell_type": "code",
   "execution_count": 6,
   "id": "0c1bf16d",
   "metadata": {},
   "outputs": [
    {
     "data": {
      "text/plain": [
       "Mico Layout, Stage 2, BTM Layout,Bangalore          947\n",
       "DBlock, Sector 63, Noida                            806\n",
       "Sector 1, Noida                                     791\n",
       "FTI College, Law College Road, Pune                 584\n",
       "Delhi UniversityGTB Nagar                           545\n",
       "Laxman Vihar Industrial Area, Sector 3A, Gurgoan    493\n",
       "Sector 14, Noida                                    489\n",
       "Delhi Administration Flats, Timarpur                472\n",
       "Mumbai Central                                      459\n",
       "Rmz Centennial, I Gate, Whitefield                  457\n",
       "Delhi High Court, India Gate                        411\n",
       "MG Road, Pune                                       402\n",
       "Nathan Road, Mangaldas Road, Pune                   372\n",
       "Sandhurst Road, Mumbai CST Area                     370\n",
       "Sector 3, Marathalli                                366\n",
       "Majestic                                            334\n",
       "Delhi Cantt.                                        326\n",
       "Yerawada, Pune, Maharashtra                         307\n",
       "Dockyard Road, Mumbai CST Area                      291\n",
       "Babarpur, New Delhi, Delhi                          282\n",
       "Pune University                                     278\n",
       "Sector 63A,Gurgaon                                  260\n",
       "Moulali, Kolkata                                    137\n",
       "Chandni Chowk, Kolkata                              126\n",
       "Tejas Nagar Colony, Wadala West, Mumbai             109\n",
       "Raja Bazar, Kolkata                                 108\n",
       "Tiretti, Kolkata                                     96\n",
       "Hyderabad Public School, Begumpet                    81\n",
       "Gora Bazar, Rajbari, North Dumdum, Kolkata           79\n",
       "Noorkhan Bazaar, Malakpet, Hyderabad                 68\n",
       "Musi Nagar, Malakpet, Hyderabad                      68\n",
       "Panjetan Colony, Malakpet, Hyderabad                 56\n",
       "Chatta Bazaar, Malakpet, Hyderabad                   54\n",
       "Jaya Nagar, Saidabad, Hyderabad                      48\n",
       "BTM Layout 1, Electronic City                        22\n",
       "Name: Location, dtype: int64"
      ]
     },
     "execution_count": 6,
     "metadata": {},
     "output_type": "execute_result"
    }
   ],
   "source": [
    "predict_deli[\"Location\"].value_counts()"
   ]
  },
  {
   "cell_type": "code",
   "execution_count": 7,
   "id": "1d9eefc7",
   "metadata": {},
   "outputs": [
    {
     "data": {
      "text/plain": [
       "30     7406\n",
       "45     2665\n",
       "65      923\n",
       "120      62\n",
       "20       20\n",
       "80       14\n",
       "10        4\n",
       "Name: DeliveryTime, dtype: int64"
      ]
     },
     "execution_count": 7,
     "metadata": {},
     "output_type": "execute_result"
    }
   ],
   "source": [
    "predict_deli[\"DeliveryTime\"].value_counts()"
   ]
  },
  {
   "cell_type": "code",
   "execution_count": 8,
   "id": "ba00acb0",
   "metadata": {},
   "outputs": [
    {
     "name": "stdout",
     "output_type": "stream",
     "text": [
      "Saving figure attribute_histogram_plots\n"
     ]
    },
    {
     "data": {
      "image/png": "[encoded data removed]",
      "text/plain": [
       "<Figure size 1440x1080 with 4 Axes>"
      ]
     },
     "metadata": {
      "needs_background": "light"
     },
     "output_type": "display_data"
    }
   ],
   "source": [
    "%matplotlib inline\n",
    "import matplotlib.pyplot as plt\n",
    "predict_deli.hist(bins=50, figsize=(20,15))\n",
    "save_fig(\"attribute_histogram_plots\")\n",
    "plt.show()"
   ]
  },
  {
   "cell_type": "code",
   "execution_count": 9,
   "id": "1a639e4b",
   "metadata": {},
   "outputs": [
    {
     "name": "stdout",
     "output_type": "stream",
     "text": [
      "Saving figure scatter_matrix_plot\n"
     ]
    },
    {
     "data": {
      "image/png": "[encoded data removed]",
      "text/plain": [
       "<Figure size 864x576 with 16 Axes>"
      ]
     },
     "metadata": {
      "needs_background": "light"
     },
     "output_type": "display_data"
    }
   ],
   "source": [
    "from pandas.plotting import scatter_matrix\n",
    "\n",
    "attributes = [\"MinimumOrder\", \"Votes\", \"Reviews\",\n",
    "              \"DeliveryTime\"]\n",
    "scatter_matrix(predict_deli[attributes], figsize=(12, 8))\n",
    "save_fig(\"scatter_matrix_plot\")"
   ]
  },
  {
   "cell_type": "markdown",
   "id": "4d98970e",
   "metadata": {},
   "source": [
    "## 데이터 전처리\n",
    "* Average Cost : str -> num, for인 값이 하나 포함되어있는데 삭제예정\n",
    "* Rating : str -> num, Opening Soon, Temporarily Closed, NEW 일경우 삭제\n",
    "* Rating, Votes, Reviews의 NaN은 medium으로 채울 예정"
   ]
  },
  {
   "cell_type": "code",
   "execution_count": 10,
   "id": "8e0db033",
   "metadata": {
    "scrolled": false
   },
   "outputs": [],
   "source": [
    "from sklearn.preprocessing import LabelEncoder\n",
    "\n",
    "predict_deli['Restaurant'] = LabelEncoder().fit_transform(predict_deli['Restaurant'])\n",
    "#predict_deli['Location'] = LabelEncoder().fit_transform(predict_deli['Location'])\n",
    "#predict_deli['Cuisines'] = LabelEncoder().fit_transform(predict_deli['Cuisines'])\n",
    "\n",
    "predict_deli['AverageCost'] = predict_deli['AverageCost'].apply(lambda x : np.nan if x == \"for\" else x)\n",
    "predict_deli['AverageCost'] = pd.to_numeric(predict_deli['AverageCost'].str.replace('[^0-9]',''))\n",
    "predict_deli['Rating']=pd.to_numeric(predict_deli['Rating'].apply(lambda x : np.nan if x in ['Temporarily Closed','Opening Soon','NEW'] else x))\n",
    "\n",
    "predict_deli['AverageCost'].fillna(predict_deli['AverageCost'].median(), inplace=True)\n",
    "predict_deli[\"Rating\"].fillna(predict_deli['Rating'].median(), inplace=True)\n",
    "predict_deli[\"Votes\"].fillna(predict_deli['Votes'].median(), inplace=True)\n",
    "predict_deli[\"Reviews\"].fillna(predict_deli['Reviews'].median(), inplace=True)"
   ]
  },
  {
   "cell_type": "markdown",
   "id": "9b219c6b",
   "metadata": {},
   "source": [
    "* Location과 Cuisines 는 pandas의 get_dummies를 이용하여 One hot encoding을 해주었다."
   ]
  },
  {
   "cell_type": "code",
   "execution_count": 11,
   "id": "34efb411",
   "metadata": {},
   "outputs": [],
   "source": [
    "predict_deli_location = pd.get_dummies(predict_deli, columns=[\"Location\"]) \n",
    "predict_deli_Cuisines = predict_deli_location[\"Cuisines\"].str.get_dummies(\", \")\n",
    "predict_deli = pd.concat([predict_deli_location,predict_deli_Cuisines], axis=1)\n",
    "predict_deli = predict_deli.drop(\"Cuisines\", axis = 1)"
   ]
  },
  {
   "cell_type": "code",
   "execution_count": 12,
   "id": "b0a3dd88",
   "metadata": {},
   "outputs": [],
   "source": [
    "data =predict_deli.drop(\"DeliveryTime\", axis = 1)\n",
    "labels = predict_deli[\"DeliveryTime\"].copy()"
   ]
  },
  {
   "cell_type": "markdown",
   "id": "aeea69e5",
   "metadata": {},
   "source": [
    "## 모델 학습\n",
    "* 모델은 우리가 구해야하는 DeliveryTime이 30,45,65,120...와 같은 특정한 시간으로만 구성되어 있기 때문에 회귀문제가 아닌 분류문제로 생각을 하여 RandomForestClassifier를 사용 하였다."
   ]
  },
  {
   "cell_type": "code",
   "execution_count": 13,
   "id": "fb9e3fe8",
   "metadata": {},
   "outputs": [
    {
     "name": "stdout",
     "output_type": "stream",
     "text": [
      "train Score : 1.0\n",
      "train MAE : 0.0\n",
      "test Score : 0.7926994141505183\n",
      "test MAE : 4.094186570527264\n"
     ]
    }
   ],
   "source": [
    "from sklearn.model_selection import train_test_split\n",
    "\n",
    "x_train,x_test,y_train,y_test=train_test_split(data,labels,test_size=0.2,random_state=50)\n",
    "\n",
    "from sklearn.ensemble import RandomForestClassifier\n",
    "\n",
    "rf = RandomForestClassifier(random_state=50)\n",
    "rf.fit(x_train, y_train)\n",
    "train_y_pred = rf.predict(x_train)\n",
    "print(\"train Score :\",accuracy_score(y_train,train_y_pred))\n",
    "print(\"train MAE :\",mean_absolute_error(y_train, train_y_pred))\n",
    "y_pred = rf.predict(x_test)\n",
    "print(\"test Score :\",accuracy_score(y_test,y_pred))\n",
    "print(\"test MAE :\",mean_absolute_error(y_test, y_pred))"
   ]
  },
  {
   "cell_type": "markdown",
   "id": "b79c993f",
   "metadata": {},
   "source": [
    "튜닝이 되어있지 않을때\n",
    "Under-prediction의 비율은 0.20정도가 나오고\n",
    "Mean Absolute Erro(MAE)는 3.90 정도가 나왔다."
   ]
  },
  {
   "cell_type": "markdown",
   "id": "1bf7232d",
   "metadata": {},
   "source": [
    "### 모델 튜닝"
   ]
  },
  {
   "cell_type": "code",
   "execution_count": 14,
   "id": "2773b527",
   "metadata": {},
   "outputs": [
    {
     "data": {
      "text/plain": [
       "GridSearchCV(estimator=RandomForestClassifier(random_state=50),\n",
       "             param_grid=[{'criterion': ['gini', 'entropy'],\n",
       "                          'n_estimators': [10, 20, 40, 80, 100]}],\n",
       "             return_train_score=True, scoring='neg_mean_absolute_error')"
      ]
     },
     "execution_count": 14,
     "metadata": {},
     "output_type": "execute_result"
    }
   ],
   "source": [
    "from sklearn.model_selection import GridSearchCV\n",
    "param_grid=[\n",
    "    {'n_estimators': [10, 20, 40, 80, 100],\n",
    "    'criterion': [\"gini\", \"entropy\"]}\n",
    "]\n",
    "grid_search = GridSearchCV(rf, param_grid, scoring = \"neg_mean_absolute_error\", return_train_score=True)\n",
    "grid_search.fit(x_train, y_train)"
   ]
  },
  {
   "cell_type": "code",
   "execution_count": 15,
   "id": "fdeab9b2",
   "metadata": {},
   "outputs": [
    {
     "data": {
      "text/plain": [
       "{'criterion': 'entropy', 'n_estimators': 100}"
      ]
     },
     "execution_count": 15,
     "metadata": {},
     "output_type": "execute_result"
    }
   ],
   "source": [
    "grid_search.best_params_"
   ]
  },
  {
   "cell_type": "code",
   "execution_count": 16,
   "id": "1e3367f6",
   "metadata": {},
   "outputs": [
    {
     "data": {
      "text/plain": [
       "RandomForestClassifier(criterion='entropy', random_state=50)"
      ]
     },
     "execution_count": 16,
     "metadata": {},
     "output_type": "execute_result"
    }
   ],
   "source": [
    "grid_search.best_estimator_"
   ]
  },
  {
   "cell_type": "code",
   "execution_count": 17,
   "id": "be96f853",
   "metadata": {},
   "outputs": [
    {
     "name": "stdout",
     "output_type": "stream",
     "text": [
      "2.2802273175537366 {'criterion': 'gini', 'n_estimators': 10}\n",
      "2.2262201908230392 {'criterion': 'gini', 'n_estimators': 20}\n",
      "2.187673534364245 {'criterion': 'gini', 'n_estimators': 40}\n",
      "2.1608553340397147 {'criterion': 'gini', 'n_estimators': 80}\n",
      "2.1570715673057475 {'criterion': 'gini', 'n_estimators': 100}\n",
      "2.2675916367339854 {'criterion': 'entropy', 'n_estimators': 10}\n",
      "2.2111115043133944 {'criterion': 'entropy', 'n_estimators': 20}\n",
      "2.180321723255861 {'criterion': 'entropy', 'n_estimators': 40}\n",
      "2.1690524964588493 {'criterion': 'entropy', 'n_estimators': 80}\n",
      "2.1513179714036945 {'criterion': 'entropy', 'n_estimators': 100}\n"
     ]
    }
   ],
   "source": [
    "cvres = grid_search.cv_results_\n",
    "for mean_score, params in zip(cvres[\"mean_test_score\"], cvres[\"params\"]):\n",
    "    print(np.sqrt(-mean_score), params)"
   ]
  },
  {
   "cell_type": "markdown",
   "id": "ed135b33",
   "metadata": {},
   "source": [
    "## 최종 평가"
   ]
  },
  {
   "cell_type": "code",
   "execution_count": 18,
   "id": "7e706fe0",
   "metadata": {},
   "outputs": [
    {
     "name": "stdout",
     "output_type": "stream",
     "text": [
      "MAE :  4.373591707976566\n",
      "Score :  0.7926994141505183\n"
     ]
    }
   ],
   "source": [
    "final_model = grid_search.best_estimator_\n",
    "final_predictions = final_model.predict(x_test)\n",
    "final_mae = mean_absolute_error(y_test, final_predictions)\n",
    "final_scroe = accuracy_score(y_test,y_pred)\n",
    "print(\"MAE : \", final_mae)\n",
    "print(\"Score : \", final_scroe)"
   ]
  }
 ],
 "metadata": {
  "kernelspec": {
   "display_name": "Python 3",
   "language": "python",
   "name": "python3"
  },
  "language_info": {
   "codemirror_mode": {
    "name": "ipython",
    "version": 3
   },
   "file_extension": ".py",
   "mimetype": "text/x-python",
   "name": "python",
   "nbconvert_exporter": "python",
   "pygments_lexer": "ipython3",
   "version": "3.8.10"
  }
 },
 "nbformat": 4,
 "nbformat_minor": 5
}
